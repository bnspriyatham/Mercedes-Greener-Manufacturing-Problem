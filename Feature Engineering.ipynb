{
 "cells": [
  {
   "cell_type": "markdown",
   "metadata": {},
   "source": [
    "# Feature Engineering"
   ]
  },
  {
   "cell_type": "code",
   "execution_count": 1,
   "metadata": {},
   "outputs": [],
   "source": [
    "# Importing necessary libraries\n",
    "import pandas as pd\n",
    "from sklearn.preprocessing import LabelEncoder\n",
    "import numpy as np\n",
    "from itertools import combinations\n",
    "from sklearn.preprocessing import StandardScaler\n",
    "from sklearn.decomposition import TruncatedSVD\n",
    "from sklearn.decomposition import PCA\n",
    "import numpy as np\n",
    "from category_encoders.glmm import GLMMEncoder\n",
    "import matplotlib.pyplot as plt\n",
    "from tqdm import tqdm\n",
    "import pickle"
   ]
  },
  {
   "cell_type": "markdown",
   "metadata": {},
   "source": [
    "### Importing dataset"
   ]
  },
  {
   "cell_type": "code",
   "execution_count": 2,
   "metadata": {},
   "outputs": [],
   "source": [
    "#Loading dataset saved from EDA\n",
    "train = pd.read_csv('preprocessed_train_eda.csv')\n",
    "test = pd.read_csv('preprocessed_test_eda.csv')"
   ]
  },
  {
   "cell_type": "markdown",
   "metadata": {},
   "source": [
    "## Interaction Features (Numerical)"
   ]
  },
  {
   "cell_type": "code",
   "execution_count": 3,
   "metadata": {},
   "outputs": [],
   "source": [
    "# Importing top features from the EDA dataset.\n",
    "rf_col = open('Top-features','rb')\n",
    "features = pickle.load(rf_col,encoding = 'latin1')"
   ]
  },
  {
   "cell_type": "code",
   "execution_count": 4,
   "metadata": {},
   "outputs": [],
   "source": [
    "top_features = []\n",
    "for i in features:\n",
    "    if i in train.columns:\n",
    "        top_features.append(i)"
   ]
  },
  {
   "cell_type": "code",
   "execution_count": 5,
   "metadata": {},
   "outputs": [],
   "source": [
    "#Creating combination of features got from EDA\n",
    "two_way_list = list(combinations(top_features,2))\n",
    "three_way_list = list(combinations(top_features,3))"
   ]
  },
  {
   "cell_type": "code",
   "execution_count": 6,
   "metadata": {},
   "outputs": [],
   "source": [
    "#Creating a dataframe which consists of combinations of features\n",
    "train_numeric_corr = pd.DataFrame()\n",
    "def interaction_features(col):\n",
    "    if len(col) == 2:\n",
    "        train_numeric_corr[str(col[0])+'_add_'+str(col[1])] = train[col[0]]+train[col[1]]\n",
    "    else:\n",
    "        train_numeric_corr[str(col[0])+'_add_'+str(col[1])+'_add_'+str(col[2])] = train[col[0]]+train[col[1]]+train[col[2]]"
   ]
  },
  {
   "cell_type": "code",
   "execution_count": 7,
   "metadata": {},
   "outputs": [],
   "source": [
    "for i in (two_way_list+three_way_list):\n",
    "    interaction_features(i)"
   ]
  },
  {
   "cell_type": "code",
   "execution_count": 8,
   "metadata": {},
   "outputs": [],
   "source": [
    "test_numeric_corr = pd.DataFrame()\n",
    "def interaction_features(col):\n",
    "    if len(col) == 2:\n",
    "        test_numeric_corr[str(col[0])+'_add_'+str(col[1])] = test[col[0]]+test[col[1]]\n",
    "    else:\n",
    "        test_numeric_corr[str(col[0])+'_add_'+str(col[1])+'_add_'+str(col[2])] = test[col[0]]+test[col[1]]+test[col[2]]"
   ]
  },
  {
   "cell_type": "code",
   "execution_count": 9,
   "metadata": {},
   "outputs": [],
   "source": [
    "for i in (two_way_list+three_way_list):\n",
    "    interaction_features(i)"
   ]
  },
  {
   "cell_type": "code",
   "execution_count": 10,
   "metadata": {},
   "outputs": [],
   "source": [
    "train_numeric_corr['y'] = train['y']"
   ]
  },
  {
   "cell_type": "code",
   "execution_count": 11,
   "metadata": {},
   "outputs": [],
   "source": [
    "correlation = train_numeric_corr.corr(method = 'pearson')"
   ]
  },
  {
   "cell_type": "code",
   "execution_count": 12,
   "metadata": {},
   "outputs": [],
   "source": [
    "corr_values = list(correlation['y'].sort_values(ascending = False))\n",
    "corr_cols = list(correlation['y'].sort_values(ascending = False).index)"
   ]
  },
  {
   "cell_type": "code",
   "execution_count": 13,
   "metadata": {},
   "outputs": [],
   "source": [
    "#Selecting correlation features which have correlation greater than 0.68 to target variable from above combinations of features\n",
    "top_correlated_features = []\n",
    "for i in range(len(corr_values)):\n",
    "    if corr_values[i] > 0.68:\n",
    "        if corr_cols[i] != 'y':\n",
    "            top_correlated_features.append(corr_cols[i])   "
   ]
  },
  {
   "cell_type": "code",
   "execution_count": 14,
   "metadata": {
    "scrolled": true
   },
   "outputs": [
    {
     "data": {
      "text/plain": [
       "19"
      ]
     },
     "execution_count": 14,
     "metadata": {},
     "output_type": "execute_result"
    }
   ],
   "source": [
    "len(top_correlated_features)"
   ]
  },
  {
   "cell_type": "code",
   "execution_count": 15,
   "metadata": {},
   "outputs": [],
   "source": [
    "file = 'Corr-features'\n",
    "file_dump = open(file,'wb')\n",
    "pickle.dump(top_correlated_features,file_dump)\n",
    "file_dump.close()"
   ]
  },
  {
   "cell_type": "code",
   "execution_count": 16,
   "metadata": {},
   "outputs": [],
   "source": [
    "train_top_corr_numeric = train_numeric_corr[top_correlated_features]\n",
    "test_top_corr_numeric = test_numeric_corr[top_correlated_features]"
   ]
  },
  {
   "cell_type": "markdown",
   "metadata": {},
   "source": [
    "## PCA and TSVD for Numerical features"
   ]
  },
  {
   "cell_type": "markdown",
   "metadata": {},
   "source": [
    "### Creating PCA features"
   ]
  },
  {
   "cell_type": "code",
   "execution_count": 17,
   "metadata": {},
   "outputs": [],
   "source": [
    "numeric = list(train.select_dtypes(include = 'int64').columns)\n",
    "numeric_train = train[numeric]\n",
    "numeric_test = test[numeric]"
   ]
  },
  {
   "cell_type": "code",
   "execution_count": 18,
   "metadata": {},
   "outputs": [],
   "source": [
    "# Using standard scaler to normalize the data\n",
    "scaler = StandardScaler()"
   ]
  },
  {
   "cell_type": "code",
   "execution_count": 19,
   "metadata": {},
   "outputs": [],
   "source": [
    "train_numeric_norm= scaler.fit_transform(numeric_train)"
   ]
  },
  {
   "cell_type": "code",
   "execution_count": 20,
   "metadata": {},
   "outputs": [],
   "source": [
    "train_numeric_norm = pd.DataFrame(train_numeric_norm,columns = numeric_train.columns)"
   ]
  },
  {
   "cell_type": "code",
   "execution_count": 21,
   "metadata": {},
   "outputs": [],
   "source": [
    "test_numeric_norm = scaler.transform(numeric_test)"
   ]
  },
  {
   "cell_type": "code",
   "execution_count": 22,
   "metadata": {},
   "outputs": [],
   "source": [
    "test_numeric_norm = pd.DataFrame(test_numeric_norm,columns = numeric_test.columns)"
   ]
  },
  {
   "cell_type": "code",
   "execution_count": 23,
   "metadata": {},
   "outputs": [],
   "source": [
    "pca = PCA(n_components = 50)\n",
    "train_pca = pca.fit(train_numeric_norm)"
   ]
  },
  {
   "cell_type": "code",
   "execution_count": 24,
   "metadata": {},
   "outputs": [
    {
     "data": {
      "image/png": "[encoded data removed]",
      "text/plain": [
       "<Figure size 720x720 with 1 Axes>"
      ]
     },
     "metadata": {
      "needs_background": "light"
     },
     "output_type": "display_data"
    }
   ],
   "source": [
    "# Plot the explained variances\n",
    "plt.figure(figsize = (10,10))\n",
    "features = range(train_pca.n_components_)\n",
    "plt.bar(features, train_pca.explained_variance_)\n",
    "plt.xlabel('PCA feature')\n",
    "plt.ylabel('variance')\n",
    "plt.xticks(features)\n",
    "plt.show()"
   ]
  },
  {
   "cell_type": "markdown",
   "metadata": {},
   "source": [
    "#### From above graph we can take number of components as 6 for PCA"
   ]
  },
  {
   "cell_type": "code",
   "execution_count": 25,
   "metadata": {},
   "outputs": [],
   "source": [
    "n_comp = 6\n",
    "pca = PCA(n_components = n_comp)\n",
    "train_pca = pca.fit_transform(train_numeric_norm)\n",
    "test_pca = pca.transform(test_numeric_norm)"
   ]
  },
  {
   "cell_type": "code",
   "execution_count": 26,
   "metadata": {},
   "outputs": [],
   "source": [
    "train_pca_df = pd.DataFrame()\n",
    "test_pca_df = pd.DataFrame()\n",
    "for i in range(1,n_comp+1):\n",
    "    train_pca_df['pca'+str(i)] = train_pca[:,i-1]\n",
    "    test_pca_df['pca'+str(i)] = test_pca[:,i-1]"
   ]
  },
  {
   "cell_type": "code",
   "execution_count": 146,
   "metadata": {},
   "outputs": [],
   "source": [
    "filename = 'models/pca.sav'\n",
    "pickle.dump(pca,open(filename,'wb'))"
   ]
  },
  {
   "cell_type": "markdown",
   "metadata": {},
   "source": [
    "### Creating TSVD Features"
   ]
  },
  {
   "cell_type": "markdown",
   "metadata": {},
   "source": [
    "#### Optimal Thresholding of Singular values"
   ]
  },
  {
   "cell_type": "code",
   "execution_count": 27,
   "metadata": {},
   "outputs": [],
   "source": [
    "## Using Truncated SVD to find the singular values and setting number of components as 100.\n",
    "svd = TruncatedSVD(n_components = 150,random_state = 42)"
   ]
  },
  {
   "cell_type": "code",
   "execution_count": 28,
   "metadata": {},
   "outputs": [],
   "source": [
    "train_tsvd = svd.fit_transform(train_numeric_norm)"
   ]
  },
  {
   "cell_type": "code",
   "execution_count": 29,
   "metadata": {},
   "outputs": [],
   "source": [
    "singular_values = svd.singular_values_"
   ]
  },
  {
   "cell_type": "code",
   "execution_count": 30,
   "metadata": {},
   "outputs": [],
   "source": [
    "var_explained = svd.explained_variance_ratio_.sum()"
   ]
  },
  {
   "cell_type": "markdown",
   "metadata": {},
   "source": [
    "##### Using 100 as number of components transformed data from tsvd can explain 95% of our data"
   ]
  },
  {
   "cell_type": "code",
   "execution_count": 31,
   "metadata": {},
   "outputs": [
    {
     "data": {
      "text/plain": [
       "0.9562972630843092"
      ]
     },
     "execution_count": 31,
     "metadata": {},
     "output_type": "execute_result"
    }
   ],
   "source": [
    "var_explained"
   ]
  },
  {
   "cell_type": "markdown",
   "metadata": {},
   "source": [
    "#### Thresholding of singluar values (https://arxiv.org/pdf/1305.5870.pdf)"
   ]
  },
  {
   "cell_type": "code",
   "execution_count": 32,
   "metadata": {},
   "outputs": [],
   "source": [
    "def beta_cal(input_matrix):\n",
    "    m = min(input_matrix.shape)\n",
    "    n = max(input_matrix.shape)\n",
    "    return m/n"
   ]
  },
  {
   "cell_type": "code",
   "execution_count": 33,
   "metadata": {},
   "outputs": [],
   "source": [
    "def optimal_svht_sigma(beta):\n",
    "    return (0.56*beta**3)-(0.95*beta**2)+(1.82*beta)+1.43"
   ]
  },
  {
   "cell_type": "code",
   "execution_count": 34,
   "metadata": {},
   "outputs": [
    {
     "name": "stdout",
     "output_type": "stream",
     "text": [
      "Beta value must be in range of (0,1] and beta value is  0.07415355269432522\n"
     ]
    }
   ],
   "source": [
    "beta = beta_cal(train_numeric_norm)\n",
    "print('Beta value must be in range of (0,1] and beta value is ',beta)"
   ]
  },
  {
   "cell_type": "code",
   "execution_count": 35,
   "metadata": {},
   "outputs": [
    {
     "name": "stdout",
     "output_type": "stream",
     "text": [
      "w(beta) coefficient according to the paper is  1.55996399500429\n"
     ]
    }
   ],
   "source": [
    "sigma = optimal_svht_sigma(beta)\n",
    "print('w(beta) coefficient according to the paper is ',sigma)"
   ]
  },
  {
   "cell_type": "code",
   "execution_count": 36,
   "metadata": {},
   "outputs": [],
   "source": [
    "# Finding median from the singular values generated from the TSVD\n",
    "sv_median = np.median(singular_values)"
   ]
  },
  {
   "cell_type": "code",
   "execution_count": 37,
   "metadata": {},
   "outputs": [],
   "source": [
    "# The threshold for the singluar values\n",
    "threshold = sigma*sv_median"
   ]
  },
  {
   "cell_type": "code",
   "execution_count": 38,
   "metadata": {},
   "outputs": [
    {
     "name": "stdout",
     "output_type": "stream",
     "text": [
      "Number of components after thresholding is  23\n"
     ]
    }
   ],
   "source": [
    "# The number of components we can have in TSVD after thresholding.\n",
    "n_comp = np.max( np.where( singular_values > threshold ) ) + 1\n",
    "print('Number of components after thresholding is ',n_comp)"
   ]
  },
  {
   "cell_type": "markdown",
   "metadata": {},
   "source": [
    "#### Creating TSVD features from above n_components"
   ]
  },
  {
   "cell_type": "code",
   "execution_count": 39,
   "metadata": {},
   "outputs": [],
   "source": [
    "tsvd = TruncatedSVD(n_components = n_comp,random_state = 42)"
   ]
  },
  {
   "cell_type": "code",
   "execution_count": 40,
   "metadata": {},
   "outputs": [],
   "source": [
    "train_tsvd = tsvd.fit_transform(train_numeric_norm)"
   ]
  },
  {
   "cell_type": "code",
   "execution_count": 41,
   "metadata": {},
   "outputs": [],
   "source": [
    "test_tsvd = tsvd.transform(test_numeric_norm)"
   ]
  },
  {
   "cell_type": "code",
   "execution_count": 42,
   "metadata": {},
   "outputs": [],
   "source": [
    "train_tsvd_df = pd.DataFrame()\n",
    "test_tsvd_df = pd.DataFrame()\n",
    "for i in range(1,n_comp+1):\n",
    "    train_tsvd_df['tsvd'+str(i)] = train_tsvd[:,i-1]\n",
    "    test_tsvd_df['tsvd'+str(i)] = test_tsvd[:,i-1]"
   ]
  },
  {
   "cell_type": "code",
   "execution_count": 147,
   "metadata": {},
   "outputs": [],
   "source": [
    "filename = 'models/tsvd.sav'\n",
    "pickle.dump(tsvd,open(filename,'wb'))"
   ]
  },
  {
   "cell_type": "markdown",
   "metadata": {},
   "source": [
    "## Datasets-1 (Label Encoding)"
   ]
  },
  {
   "cell_type": "markdown",
   "metadata": {},
   "source": [
    "### Label Encoding of Categorical Features"
   ]
  },
  {
   "cell_type": "code",
   "execution_count": 44,
   "metadata": {},
   "outputs": [],
   "source": [
    "#Loading dataset saved from EDA\n",
    "train_label = pd.read_csv('preprocessed_train_eda.csv')"
   ]
  },
  {
   "cell_type": "code",
   "execution_count": 45,
   "metadata": {},
   "outputs": [],
   "source": [
    "test_label = pd.read_csv('preprocessed_test_eda.csv')"
   ]
  },
  {
   "cell_type": "code",
   "execution_count": 46,
   "metadata": {},
   "outputs": [],
   "source": [
    "categ = list(train_label.select_dtypes(include = 'object').columns)"
   ]
  },
  {
   "cell_type": "code",
   "execution_count": 47,
   "metadata": {},
   "outputs": [],
   "source": [
    "# Label encoding\n",
    "def label_encode(tr,te,col_name):\n",
    "    encoder = LabelEncoder()\n",
    "    label_encoder = encoder.fit(tr[col_name].values)\n",
    "    te[col_name] = te[col_name].map(lambda x: 'nill' if x not in label_encoder.classes_ else x)\n",
    "    label_encoder.classes_ = np.append(label_encoder.classes_, 'nill')\n",
    "    tr[col_name] = label_encoder.transform(tr[col_name])\n",
    "    te[col_name] = label_encoder.transform(te[col_name])"
   ]
  },
  {
   "cell_type": "code",
   "execution_count": 48,
   "metadata": {},
   "outputs": [],
   "source": [
    "# Encoding categorical columns using Label Encoder\n",
    "for i in categ:\n",
    "    label_encode(train_label,test_label,i)"
   ]
  },
  {
   "cell_type": "code",
   "execution_count": 49,
   "metadata": {},
   "outputs": [
    {
     "data": {
      "text/html": [
       "<div>\n",
       "<style scoped>\n",
       "    .dataframe tbody tr th:only-of-type {\n",
       "        vertical-align: middle;\n",
       "    }\n",
       "\n",
       "    .dataframe tbody tr th {\n",
       "        vertical-align: top;\n",
       "    }\n",
       "\n",
       "    .dataframe thead th {\n",
       "        text-align: right;\n",
       "    }\n",
       "</style>\n",
       "<table border=\"1\" class=\"dataframe\">\n",
       "  <thead>\n",
       "    <tr style=\"text-align: right;\">\n",
       "      <th></th>\n",
       "      <th>y</th>\n",
       "      <th>X0</th>\n",
       "      <th>X1</th>\n",
       "      <th>X2</th>\n",
       "      <th>X3</th>\n",
       "      <th>X5</th>\n",
       "      <th>X6</th>\n",
       "      <th>X8</th>\n",
       "      <th>X10</th>\n",
       "      <th>X12</th>\n",
       "      <th>...</th>\n",
       "      <th>X373</th>\n",
       "      <th>X374</th>\n",
       "      <th>X375</th>\n",
       "      <th>X376</th>\n",
       "      <th>X377</th>\n",
       "      <th>X378</th>\n",
       "      <th>X379</th>\n",
       "      <th>X380</th>\n",
       "      <th>X383</th>\n",
       "      <th>X384</th>\n",
       "    </tr>\n",
       "  </thead>\n",
       "  <tbody>\n",
       "    <tr>\n",
       "      <th>0</th>\n",
       "      <td>130.81</td>\n",
       "      <td>32</td>\n",
       "      <td>23</td>\n",
       "      <td>17</td>\n",
       "      <td>0</td>\n",
       "      <td>24</td>\n",
       "      <td>9</td>\n",
       "      <td>14</td>\n",
       "      <td>0</td>\n",
       "      <td>0</td>\n",
       "      <td>...</td>\n",
       "      <td>0</td>\n",
       "      <td>0</td>\n",
       "      <td>0</td>\n",
       "      <td>0</td>\n",
       "      <td>1</td>\n",
       "      <td>0</td>\n",
       "      <td>0</td>\n",
       "      <td>0</td>\n",
       "      <td>0</td>\n",
       "      <td>0</td>\n",
       "    </tr>\n",
       "    <tr>\n",
       "      <th>1</th>\n",
       "      <td>88.53</td>\n",
       "      <td>32</td>\n",
       "      <td>21</td>\n",
       "      <td>19</td>\n",
       "      <td>4</td>\n",
       "      <td>28</td>\n",
       "      <td>11</td>\n",
       "      <td>14</td>\n",
       "      <td>0</td>\n",
       "      <td>0</td>\n",
       "      <td>...</td>\n",
       "      <td>0</td>\n",
       "      <td>0</td>\n",
       "      <td>1</td>\n",
       "      <td>0</td>\n",
       "      <td>0</td>\n",
       "      <td>0</td>\n",
       "      <td>0</td>\n",
       "      <td>0</td>\n",
       "      <td>0</td>\n",
       "      <td>0</td>\n",
       "    </tr>\n",
       "    <tr>\n",
       "      <th>2</th>\n",
       "      <td>76.26</td>\n",
       "      <td>20</td>\n",
       "      <td>24</td>\n",
       "      <td>34</td>\n",
       "      <td>2</td>\n",
       "      <td>27</td>\n",
       "      <td>9</td>\n",
       "      <td>23</td>\n",
       "      <td>0</td>\n",
       "      <td>0</td>\n",
       "      <td>...</td>\n",
       "      <td>0</td>\n",
       "      <td>0</td>\n",
       "      <td>0</td>\n",
       "      <td>0</td>\n",
       "      <td>0</td>\n",
       "      <td>0</td>\n",
       "      <td>0</td>\n",
       "      <td>0</td>\n",
       "      <td>0</td>\n",
       "      <td>0</td>\n",
       "    </tr>\n",
       "    <tr>\n",
       "      <th>3</th>\n",
       "      <td>80.62</td>\n",
       "      <td>20</td>\n",
       "      <td>21</td>\n",
       "      <td>34</td>\n",
       "      <td>5</td>\n",
       "      <td>27</td>\n",
       "      <td>11</td>\n",
       "      <td>4</td>\n",
       "      <td>0</td>\n",
       "      <td>0</td>\n",
       "      <td>...</td>\n",
       "      <td>0</td>\n",
       "      <td>0</td>\n",
       "      <td>0</td>\n",
       "      <td>0</td>\n",
       "      <td>0</td>\n",
       "      <td>0</td>\n",
       "      <td>0</td>\n",
       "      <td>0</td>\n",
       "      <td>0</td>\n",
       "      <td>0</td>\n",
       "    </tr>\n",
       "    <tr>\n",
       "      <th>4</th>\n",
       "      <td>78.02</td>\n",
       "      <td>20</td>\n",
       "      <td>23</td>\n",
       "      <td>34</td>\n",
       "      <td>5</td>\n",
       "      <td>12</td>\n",
       "      <td>3</td>\n",
       "      <td>13</td>\n",
       "      <td>0</td>\n",
       "      <td>0</td>\n",
       "      <td>...</td>\n",
       "      <td>0</td>\n",
       "      <td>0</td>\n",
       "      <td>0</td>\n",
       "      <td>0</td>\n",
       "      <td>0</td>\n",
       "      <td>0</td>\n",
       "      <td>0</td>\n",
       "      <td>0</td>\n",
       "      <td>0</td>\n",
       "      <td>0</td>\n",
       "    </tr>\n",
       "  </tbody>\n",
       "</table>\n",
       "<p>5 rows × 319 columns</p>\n",
       "</div>"
      ],
      "text/plain": [
       "        y  X0  X1  X2  X3  X5  X6  X8  X10  X12  ...  X373  X374  X375  X376  \\\n",
       "0  130.81  32  23  17   0  24   9  14    0    0  ...     0     0     0     0   \n",
       "1   88.53  32  21  19   4  28  11  14    0    0  ...     0     0     1     0   \n",
       "2   76.26  20  24  34   2  27   9  23    0    0  ...     0     0     0     0   \n",
       "3   80.62  20  21  34   5  27  11   4    0    0  ...     0     0     0     0   \n",
       "4   78.02  20  23  34   5  12   3  13    0    0  ...     0     0     0     0   \n",
       "\n",
       "   X377  X378  X379  X380  X383  X384  \n",
       "0     1     0     0     0     0     0  \n",
       "1     0     0     0     0     0     0  \n",
       "2     0     0     0     0     0     0  \n",
       "3     0     0     0     0     0     0  \n",
       "4     0     0     0     0     0     0  \n",
       "\n",
       "[5 rows x 319 columns]"
      ]
     },
     "execution_count": 49,
     "metadata": {},
     "output_type": "execute_result"
    }
   ],
   "source": [
    "train_label.head()"
   ]
  },
  {
   "cell_type": "code",
   "execution_count": 50,
   "metadata": {},
   "outputs": [
    {
     "data": {
      "text/html": [
       "<div>\n",
       "<style scoped>\n",
       "    .dataframe tbody tr th:only-of-type {\n",
       "        vertical-align: middle;\n",
       "    }\n",
       "\n",
       "    .dataframe tbody tr th {\n",
       "        vertical-align: top;\n",
       "    }\n",
       "\n",
       "    .dataframe thead th {\n",
       "        text-align: right;\n",
       "    }\n",
       "</style>\n",
       "<table border=\"1\" class=\"dataframe\">\n",
       "  <thead>\n",
       "    <tr style=\"text-align: right;\">\n",
       "      <th></th>\n",
       "      <th>X0</th>\n",
       "      <th>X1</th>\n",
       "      <th>X2</th>\n",
       "      <th>X3</th>\n",
       "      <th>X5</th>\n",
       "      <th>X6</th>\n",
       "      <th>X8</th>\n",
       "      <th>X10</th>\n",
       "      <th>X12</th>\n",
       "      <th>X13</th>\n",
       "      <th>...</th>\n",
       "      <th>X373</th>\n",
       "      <th>X374</th>\n",
       "      <th>X375</th>\n",
       "      <th>X376</th>\n",
       "      <th>X377</th>\n",
       "      <th>X378</th>\n",
       "      <th>X379</th>\n",
       "      <th>X380</th>\n",
       "      <th>X383</th>\n",
       "      <th>X384</th>\n",
       "    </tr>\n",
       "  </thead>\n",
       "  <tbody>\n",
       "    <tr>\n",
       "      <th>0</th>\n",
       "      <td>20</td>\n",
       "      <td>23</td>\n",
       "      <td>34</td>\n",
       "      <td>5</td>\n",
       "      <td>29</td>\n",
       "      <td>0</td>\n",
       "      <td>22</td>\n",
       "      <td>0</td>\n",
       "      <td>0</td>\n",
       "      <td>0</td>\n",
       "      <td>...</td>\n",
       "      <td>0</td>\n",
       "      <td>0</td>\n",
       "      <td>0</td>\n",
       "      <td>0</td>\n",
       "      <td>0</td>\n",
       "      <td>1</td>\n",
       "      <td>0</td>\n",
       "      <td>0</td>\n",
       "      <td>0</td>\n",
       "      <td>0</td>\n",
       "    </tr>\n",
       "    <tr>\n",
       "      <th>1</th>\n",
       "      <td>40</td>\n",
       "      <td>3</td>\n",
       "      <td>7</td>\n",
       "      <td>0</td>\n",
       "      <td>29</td>\n",
       "      <td>6</td>\n",
       "      <td>24</td>\n",
       "      <td>0</td>\n",
       "      <td>0</td>\n",
       "      <td>0</td>\n",
       "      <td>...</td>\n",
       "      <td>0</td>\n",
       "      <td>0</td>\n",
       "      <td>0</td>\n",
       "      <td>0</td>\n",
       "      <td>1</td>\n",
       "      <td>0</td>\n",
       "      <td>0</td>\n",
       "      <td>0</td>\n",
       "      <td>0</td>\n",
       "      <td>0</td>\n",
       "    </tr>\n",
       "    <tr>\n",
       "      <th>2</th>\n",
       "      <td>20</td>\n",
       "      <td>23</td>\n",
       "      <td>16</td>\n",
       "      <td>5</td>\n",
       "      <td>29</td>\n",
       "      <td>9</td>\n",
       "      <td>9</td>\n",
       "      <td>0</td>\n",
       "      <td>0</td>\n",
       "      <td>0</td>\n",
       "      <td>...</td>\n",
       "      <td>0</td>\n",
       "      <td>0</td>\n",
       "      <td>0</td>\n",
       "      <td>0</td>\n",
       "      <td>0</td>\n",
       "      <td>1</td>\n",
       "      <td>0</td>\n",
       "      <td>0</td>\n",
       "      <td>0</td>\n",
       "      <td>0</td>\n",
       "    </tr>\n",
       "    <tr>\n",
       "      <th>3</th>\n",
       "      <td>20</td>\n",
       "      <td>13</td>\n",
       "      <td>34</td>\n",
       "      <td>5</td>\n",
       "      <td>29</td>\n",
       "      <td>11</td>\n",
       "      <td>13</td>\n",
       "      <td>0</td>\n",
       "      <td>0</td>\n",
       "      <td>0</td>\n",
       "      <td>...</td>\n",
       "      <td>0</td>\n",
       "      <td>0</td>\n",
       "      <td>0</td>\n",
       "      <td>0</td>\n",
       "      <td>0</td>\n",
       "      <td>1</td>\n",
       "      <td>0</td>\n",
       "      <td>0</td>\n",
       "      <td>0</td>\n",
       "      <td>0</td>\n",
       "    </tr>\n",
       "    <tr>\n",
       "      <th>4</th>\n",
       "      <td>43</td>\n",
       "      <td>20</td>\n",
       "      <td>16</td>\n",
       "      <td>2</td>\n",
       "      <td>28</td>\n",
       "      <td>8</td>\n",
       "      <td>12</td>\n",
       "      <td>0</td>\n",
       "      <td>0</td>\n",
       "      <td>0</td>\n",
       "      <td>...</td>\n",
       "      <td>0</td>\n",
       "      <td>0</td>\n",
       "      <td>1</td>\n",
       "      <td>0</td>\n",
       "      <td>0</td>\n",
       "      <td>0</td>\n",
       "      <td>0</td>\n",
       "      <td>0</td>\n",
       "      <td>0</td>\n",
       "      <td>0</td>\n",
       "    </tr>\n",
       "  </tbody>\n",
       "</table>\n",
       "<p>5 rows × 318 columns</p>\n",
       "</div>"
      ],
      "text/plain": [
       "   X0  X1  X2  X3  X5  X6  X8  X10  X12  X13  ...  X373  X374  X375  X376  \\\n",
       "0  20  23  34   5  29   0  22    0    0    0  ...     0     0     0     0   \n",
       "1  40   3   7   0  29   6  24    0    0    0  ...     0     0     0     0   \n",
       "2  20  23  16   5  29   9   9    0    0    0  ...     0     0     0     0   \n",
       "3  20  13  34   5  29  11  13    0    0    0  ...     0     0     0     0   \n",
       "4  43  20  16   2  28   8  12    0    0    0  ...     0     0     1     0   \n",
       "\n",
       "   X377  X378  X379  X380  X383  X384  \n",
       "0     0     1     0     0     0     0  \n",
       "1     1     0     0     0     0     0  \n",
       "2     0     1     0     0     0     0  \n",
       "3     0     1     0     0     0     0  \n",
       "4     0     0     0     0     0     0  \n",
       "\n",
       "[5 rows x 318 columns]"
      ]
     },
     "execution_count": 50,
     "metadata": {},
     "output_type": "execute_result"
    }
   ],
   "source": [
    "test_label.head()"
   ]
  },
  {
   "cell_type": "code",
   "execution_count": 51,
   "metadata": {},
   "outputs": [],
   "source": [
    "# Using standard scaler to normalize the data\n",
    "scaler = StandardScaler()"
   ]
  },
  {
   "cell_type": "code",
   "execution_count": 52,
   "metadata": {},
   "outputs": [],
   "source": [
    "train_label_norm= scaler.fit_transform(train_label.drop(['y'],axis = 1))"
   ]
  },
  {
   "cell_type": "code",
   "execution_count": 53,
   "metadata": {},
   "outputs": [],
   "source": [
    "train_columns = train_label.drop(['y'],axis = 1).columns"
   ]
  },
  {
   "cell_type": "code",
   "execution_count": 54,
   "metadata": {},
   "outputs": [],
   "source": [
    "train_label_norm = pd.DataFrame(train_label_norm,columns = train_columns)"
   ]
  },
  {
   "cell_type": "code",
   "execution_count": 55,
   "metadata": {},
   "outputs": [],
   "source": [
    "train_label_norm.to_csv('label_encoding/preprocessed_train_norm_label.csv',index = False)"
   ]
  },
  {
   "cell_type": "code",
   "execution_count": 56,
   "metadata": {},
   "outputs": [],
   "source": [
    "test_label_norm = scaler.transform(test_label)"
   ]
  },
  {
   "cell_type": "code",
   "execution_count": 57,
   "metadata": {},
   "outputs": [],
   "source": [
    "test_label_norm = pd.DataFrame(test_label_norm,columns = test_label.columns)"
   ]
  },
  {
   "cell_type": "code",
   "execution_count": 58,
   "metadata": {},
   "outputs": [],
   "source": [
    "test_label_norm.to_csv('label_encoding/preprocessed_test_norm_label.csv',index = False)"
   ]
  },
  {
   "cell_type": "markdown",
   "metadata": {},
   "source": [
    "### Adding Interaction variables"
   ]
  },
  {
   "cell_type": "code",
   "execution_count": 59,
   "metadata": {},
   "outputs": [],
   "source": [
    "train_label_corr = pd.concat([train_label,train_top_corr_numeric],axis = 1)\n",
    "test_label_corr = pd.concat([test_label,test_top_corr_numeric],axis = 1)"
   ]
  },
  {
   "cell_type": "code",
   "execution_count": 60,
   "metadata": {},
   "outputs": [],
   "source": [
    "# Using standard scaler to normalize the data\n",
    "scaler = StandardScaler()"
   ]
  },
  {
   "cell_type": "code",
   "execution_count": 61,
   "metadata": {},
   "outputs": [],
   "source": [
    "train_label_interaction = scaler.fit_transform(train_label_corr.drop(['y'],axis = 1))"
   ]
  },
  {
   "cell_type": "code",
   "execution_count": 62,
   "metadata": {},
   "outputs": [],
   "source": [
    "train_columns = train_label_corr.drop(['y'],axis = 1).columns"
   ]
  },
  {
   "cell_type": "code",
   "execution_count": 63,
   "metadata": {},
   "outputs": [],
   "source": [
    "train_label_interaction = pd.DataFrame(train_label_interaction,columns = train_columns)"
   ]
  },
  {
   "cell_type": "code",
   "execution_count": 64,
   "metadata": {},
   "outputs": [],
   "source": [
    "train_label_interaction.to_csv('label_encoding/preprocessed_train_label_interaction.csv',index = False)"
   ]
  },
  {
   "cell_type": "code",
   "execution_count": 65,
   "metadata": {},
   "outputs": [],
   "source": [
    "test_label_interaction = scaler.transform(test_label_corr)"
   ]
  },
  {
   "cell_type": "code",
   "execution_count": 66,
   "metadata": {},
   "outputs": [],
   "source": [
    "test_label_interaction = pd.DataFrame(test_label_interaction,columns = test_label_corr.columns)"
   ]
  },
  {
   "cell_type": "code",
   "execution_count": 67,
   "metadata": {},
   "outputs": [],
   "source": [
    "test_label_interaction.to_csv('label_encoding/preprocessed_test_label_interaction.csv',index = False)"
   ]
  },
  {
   "cell_type": "markdown",
   "metadata": {},
   "source": [
    "### Adding PCAand Interaction features"
   ]
  },
  {
   "cell_type": "code",
   "execution_count": 68,
   "metadata": {},
   "outputs": [],
   "source": [
    "train_label_corr_pca = pd.concat([train_label_interaction,train_pca_df],axis = 1)\n",
    "test_label_corr_pca = pd.concat([test_label_interaction,test_pca_df],axis = 1)"
   ]
  },
  {
   "cell_type": "code",
   "execution_count": 69,
   "metadata": {},
   "outputs": [],
   "source": [
    "train_label_corr_pca.to_csv('label_encoding/train_label_interaction_pca.csv',index = False)"
   ]
  },
  {
   "cell_type": "code",
   "execution_count": 70,
   "metadata": {},
   "outputs": [],
   "source": [
    "test_label_corr_pca.to_csv('label_encoding/test_label_interaction_pca.csv',index = False)"
   ]
  },
  {
   "cell_type": "markdown",
   "metadata": {},
   "source": [
    "### Adding TSVD and Interaction features"
   ]
  },
  {
   "cell_type": "code",
   "execution_count": 71,
   "metadata": {},
   "outputs": [],
   "source": [
    "train_label_corr_tsvd = pd.concat([train_label_interaction,train_tsvd_df],axis = 1)\n",
    "test_label_corr_tsvd = pd.concat([test_label_interaction,test_tsvd_df],axis = 1)"
   ]
  },
  {
   "cell_type": "code",
   "execution_count": 72,
   "metadata": {},
   "outputs": [],
   "source": [
    "train_label_corr_tsvd.to_csv('label_encoding/train_label_interaction_tsvd.csv',index = False)"
   ]
  },
  {
   "cell_type": "code",
   "execution_count": 73,
   "metadata": {},
   "outputs": [],
   "source": [
    "test_label_corr_tsvd.to_csv('label_encoding/test_label_interaction_tsvd.csv',index = False)"
   ]
  },
  {
   "cell_type": "markdown",
   "metadata": {},
   "source": [
    "## Datasets - 2 (Mean Encoding)"
   ]
  },
  {
   "cell_type": "code",
   "execution_count": 77,
   "metadata": {},
   "outputs": [],
   "source": [
    "#Loading dataset saved from EDA\n",
    "train_mean = pd.read_csv('preprocessed_train_eda.csv')\n",
    "test_mean = pd.read_csv('preprocessed_test_eda.csv')"
   ]
  },
  {
   "cell_type": "code",
   "execution_count": 78,
   "metadata": {},
   "outputs": [],
   "source": [
    "# Getting categorical columns from the train\n",
    "categ = list(train_mean.select_dtypes(include = 'object').columns)"
   ]
  },
  {
   "cell_type": "code",
   "execution_count": 79,
   "metadata": {},
   "outputs": [],
   "source": [
    "default_mean = train_mean['y'].mean()"
   ]
  },
  {
   "cell_type": "code",
   "execution_count": 157,
   "metadata": {},
   "outputs": [],
   "source": [
    "# Saving class means.\n",
    "def class_means(col_name,train):\n",
    "    class_mean = train.groupby(col_name)['y'].mean()\n",
    "    filename = 'class-means/mean_'+str(col_name)\n",
    "    pickle.dump(class_mean,open(filename,'wb'))\n",
    "pickle.dump(default_mean,open('class-means/default_mean','wb'))"
   ]
  },
  {
   "cell_type": "code",
   "execution_count": 80,
   "metadata": {},
   "outputs": [],
   "source": [
    "# Creating a function to implement mean encoding of categorical features\n",
    "#https://www.geeksforgeeks.org/mean-encoding-machine-learning/\n",
    "def mean_encoding(col_name,tr,te):\n",
    "    class_mean = tr.groupby(col_name)['y'].mean()\n",
    "    tr[col_name] = [class_mean.loc[i] for i in tr[col_name].values]\n",
    "    te[col_name] = [class_mean.loc[i] if i in class_mean.index else default_mean for i in te[col_name].values]"
   ]
  },
  {
   "cell_type": "code",
   "execution_count": 81,
   "metadata": {},
   "outputs": [],
   "source": [
    "# Mean Encoding\n",
    "for i in categ:\n",
    "    mean_encoding(i,train_mean,test_mean)"
   ]
  },
  {
   "cell_type": "code",
   "execution_count": 82,
   "metadata": {},
   "outputs": [
    {
     "data": {
      "text/html": [
       "<div>\n",
       "<style scoped>\n",
       "    .dataframe tbody tr th:only-of-type {\n",
       "        vertical-align: middle;\n",
       "    }\n",
       "\n",
       "    .dataframe tbody tr th {\n",
       "        vertical-align: top;\n",
       "    }\n",
       "\n",
       "    .dataframe thead th {\n",
       "        text-align: right;\n",
       "    }\n",
       "</style>\n",
       "<table border=\"1\" class=\"dataframe\">\n",
       "  <thead>\n",
       "    <tr style=\"text-align: right;\">\n",
       "      <th></th>\n",
       "      <th>y</th>\n",
       "      <th>X0</th>\n",
       "      <th>X1</th>\n",
       "      <th>X2</th>\n",
       "      <th>X3</th>\n",
       "      <th>X5</th>\n",
       "      <th>X6</th>\n",
       "      <th>X8</th>\n",
       "      <th>X10</th>\n",
       "      <th>X12</th>\n",
       "      <th>...</th>\n",
       "      <th>X373</th>\n",
       "      <th>X374</th>\n",
       "      <th>X375</th>\n",
       "      <th>X376</th>\n",
       "      <th>X377</th>\n",
       "      <th>X378</th>\n",
       "      <th>X379</th>\n",
       "      <th>X380</th>\n",
       "      <th>X383</th>\n",
       "      <th>X384</th>\n",
       "    </tr>\n",
       "  </thead>\n",
       "  <tbody>\n",
       "    <tr>\n",
       "      <th>0</th>\n",
       "      <td>130.81</td>\n",
       "      <td>99.491818</td>\n",
       "      <td>100.983086</td>\n",
       "      <td>104.218333</td>\n",
       "      <td>102.242763</td>\n",
       "      <td>130.81</td>\n",
       "      <td>101.015569</td>\n",
       "      <td>97.746933</td>\n",
       "      <td>0</td>\n",
       "      <td>0</td>\n",
       "      <td>...</td>\n",
       "      <td>0</td>\n",
       "      <td>0</td>\n",
       "      <td>0</td>\n",
       "      <td>0</td>\n",
       "      <td>1</td>\n",
       "      <td>0</td>\n",
       "      <td>0</td>\n",
       "      <td>0</td>\n",
       "      <td>0</td>\n",
       "      <td>0</td>\n",
       "    </tr>\n",
       "    <tr>\n",
       "      <th>1</th>\n",
       "      <td>88.53</td>\n",
       "      <td>99.491818</td>\n",
       "      <td>93.723226</td>\n",
       "      <td>95.510000</td>\n",
       "      <td>100.033190</td>\n",
       "      <td>88.53</td>\n",
       "      <td>98.487815</td>\n",
       "      <td>97.746933</td>\n",
       "      <td>0</td>\n",
       "      <td>0</td>\n",
       "      <td>...</td>\n",
       "      <td>0</td>\n",
       "      <td>0</td>\n",
       "      <td>1</td>\n",
       "      <td>0</td>\n",
       "      <td>0</td>\n",
       "      <td>0</td>\n",
       "      <td>0</td>\n",
       "      <td>0</td>\n",
       "      <td>0</td>\n",
       "      <td>0</td>\n",
       "    </tr>\n",
       "    <tr>\n",
       "      <th>2</th>\n",
       "      <td>76.26</td>\n",
       "      <td>78.025543</td>\n",
       "      <td>95.764808</td>\n",
       "      <td>83.369927</td>\n",
       "      <td>101.766129</td>\n",
       "      <td>78.44</td>\n",
       "      <td>101.015569</td>\n",
       "      <td>98.078654</td>\n",
       "      <td>0</td>\n",
       "      <td>0</td>\n",
       "      <td>...</td>\n",
       "      <td>0</td>\n",
       "      <td>0</td>\n",
       "      <td>0</td>\n",
       "      <td>0</td>\n",
       "      <td>0</td>\n",
       "      <td>0</td>\n",
       "      <td>0</td>\n",
       "      <td>0</td>\n",
       "      <td>0</td>\n",
       "      <td>0</td>\n",
       "    </tr>\n",
       "    <tr>\n",
       "      <th>3</th>\n",
       "      <td>80.62</td>\n",
       "      <td>78.025543</td>\n",
       "      <td>93.723226</td>\n",
       "      <td>83.369927</td>\n",
       "      <td>96.111916</td>\n",
       "      <td>78.44</td>\n",
       "      <td>98.487815</td>\n",
       "      <td>104.737232</td>\n",
       "      <td>0</td>\n",
       "      <td>0</td>\n",
       "      <td>...</td>\n",
       "      <td>0</td>\n",
       "      <td>0</td>\n",
       "      <td>0</td>\n",
       "      <td>0</td>\n",
       "      <td>0</td>\n",
       "      <td>0</td>\n",
       "      <td>0</td>\n",
       "      <td>0</td>\n",
       "      <td>0</td>\n",
       "      <td>0</td>\n",
       "    </tr>\n",
       "    <tr>\n",
       "      <th>4</th>\n",
       "      <td>78.02</td>\n",
       "      <td>78.025543</td>\n",
       "      <td>100.983086</td>\n",
       "      <td>83.369927</td>\n",
       "      <td>96.111916</td>\n",
       "      <td>78.02</td>\n",
       "      <td>101.174141</td>\n",
       "      <td>102.194215</td>\n",
       "      <td>0</td>\n",
       "      <td>0</td>\n",
       "      <td>...</td>\n",
       "      <td>0</td>\n",
       "      <td>0</td>\n",
       "      <td>0</td>\n",
       "      <td>0</td>\n",
       "      <td>0</td>\n",
       "      <td>0</td>\n",
       "      <td>0</td>\n",
       "      <td>0</td>\n",
       "      <td>0</td>\n",
       "      <td>0</td>\n",
       "    </tr>\n",
       "  </tbody>\n",
       "</table>\n",
       "<p>5 rows × 319 columns</p>\n",
       "</div>"
      ],
      "text/plain": [
       "        y         X0          X1          X2          X3      X5          X6  \\\n",
       "0  130.81  99.491818  100.983086  104.218333  102.242763  130.81  101.015569   \n",
       "1   88.53  99.491818   93.723226   95.510000  100.033190   88.53   98.487815   \n",
       "2   76.26  78.025543   95.764808   83.369927  101.766129   78.44  101.015569   \n",
       "3   80.62  78.025543   93.723226   83.369927   96.111916   78.44   98.487815   \n",
       "4   78.02  78.025543  100.983086   83.369927   96.111916   78.02  101.174141   \n",
       "\n",
       "           X8  X10  X12  ...  X373  X374  X375  X376  X377  X378  X379  X380  \\\n",
       "0   97.746933    0    0  ...     0     0     0     0     1     0     0     0   \n",
       "1   97.746933    0    0  ...     0     0     1     0     0     0     0     0   \n",
       "2   98.078654    0    0  ...     0     0     0     0     0     0     0     0   \n",
       "3  104.737232    0    0  ...     0     0     0     0     0     0     0     0   \n",
       "4  102.194215    0    0  ...     0     0     0     0     0     0     0     0   \n",
       "\n",
       "   X383  X384  \n",
       "0     0     0  \n",
       "1     0     0  \n",
       "2     0     0  \n",
       "3     0     0  \n",
       "4     0     0  \n",
       "\n",
       "[5 rows x 319 columns]"
      ]
     },
     "execution_count": 82,
     "metadata": {},
     "output_type": "execute_result"
    }
   ],
   "source": [
    "train_mean.head()"
   ]
  },
  {
   "cell_type": "code",
   "execution_count": 83,
   "metadata": {},
   "outputs": [
    {
     "data": {
      "text/html": [
       "<div>\n",
       "<style scoped>\n",
       "    .dataframe tbody tr th:only-of-type {\n",
       "        vertical-align: middle;\n",
       "    }\n",
       "\n",
       "    .dataframe tbody tr th {\n",
       "        vertical-align: top;\n",
       "    }\n",
       "\n",
       "    .dataframe thead th {\n",
       "        text-align: right;\n",
       "    }\n",
       "</style>\n",
       "<table border=\"1\" class=\"dataframe\">\n",
       "  <thead>\n",
       "    <tr style=\"text-align: right;\">\n",
       "      <th></th>\n",
       "      <th>X0</th>\n",
       "      <th>X1</th>\n",
       "      <th>X2</th>\n",
       "      <th>X3</th>\n",
       "      <th>X5</th>\n",
       "      <th>X6</th>\n",
       "      <th>X8</th>\n",
       "      <th>X10</th>\n",
       "      <th>X12</th>\n",
       "      <th>X13</th>\n",
       "      <th>...</th>\n",
       "      <th>X373</th>\n",
       "      <th>X374</th>\n",
       "      <th>X375</th>\n",
       "      <th>X376</th>\n",
       "      <th>X377</th>\n",
       "      <th>X378</th>\n",
       "      <th>X379</th>\n",
       "      <th>X380</th>\n",
       "      <th>X383</th>\n",
       "      <th>X384</th>\n",
       "    </tr>\n",
       "  </thead>\n",
       "  <tbody>\n",
       "    <tr>\n",
       "      <th>0</th>\n",
       "      <td>78.025543</td>\n",
       "      <td>100.983086</td>\n",
       "      <td>83.369927</td>\n",
       "      <td>96.111916</td>\n",
       "      <td>100.439938</td>\n",
       "      <td>97.802524</td>\n",
       "      <td>98.848615</td>\n",
       "      <td>0</td>\n",
       "      <td>0</td>\n",
       "      <td>0</td>\n",
       "      <td>...</td>\n",
       "      <td>0</td>\n",
       "      <td>0</td>\n",
       "      <td>0</td>\n",
       "      <td>0</td>\n",
       "      <td>0</td>\n",
       "      <td>1</td>\n",
       "      <td>0</td>\n",
       "      <td>0</td>\n",
       "      <td>0</td>\n",
       "      <td>0</td>\n",
       "    </tr>\n",
       "    <tr>\n",
       "      <th>1</th>\n",
       "      <td>93.538656</td>\n",
       "      <td>99.550000</td>\n",
       "      <td>93.722995</td>\n",
       "      <td>102.242763</td>\n",
       "      <td>100.439938</td>\n",
       "      <td>99.961284</td>\n",
       "      <td>101.435086</td>\n",
       "      <td>0</td>\n",
       "      <td>0</td>\n",
       "      <td>0</td>\n",
       "      <td>...</td>\n",
       "      <td>0</td>\n",
       "      <td>0</td>\n",
       "      <td>0</td>\n",
       "      <td>0</td>\n",
       "      <td>1</td>\n",
       "      <td>0</td>\n",
       "      <td>0</td>\n",
       "      <td>0</td>\n",
       "      <td>0</td>\n",
       "      <td>0</td>\n",
       "    </tr>\n",
       "    <tr>\n",
       "      <th>2</th>\n",
       "      <td>78.025543</td>\n",
       "      <td>100.983086</td>\n",
       "      <td>103.575961</td>\n",
       "      <td>96.111916</td>\n",
       "      <td>100.439938</td>\n",
       "      <td>101.015569</td>\n",
       "      <td>100.272428</td>\n",
       "      <td>0</td>\n",
       "      <td>0</td>\n",
       "      <td>0</td>\n",
       "      <td>...</td>\n",
       "      <td>0</td>\n",
       "      <td>0</td>\n",
       "      <td>0</td>\n",
       "      <td>0</td>\n",
       "      <td>0</td>\n",
       "      <td>1</td>\n",
       "      <td>0</td>\n",
       "      <td>0</td>\n",
       "      <td>0</td>\n",
       "      <td>0</td>\n",
       "    </tr>\n",
       "    <tr>\n",
       "      <th>3</th>\n",
       "      <td>78.025543</td>\n",
       "      <td>100.416661</td>\n",
       "      <td>83.369927</td>\n",
       "      <td>96.111916</td>\n",
       "      <td>100.439938</td>\n",
       "      <td>98.487815</td>\n",
       "      <td>102.194215</td>\n",
       "      <td>0</td>\n",
       "      <td>0</td>\n",
       "      <td>0</td>\n",
       "      <td>...</td>\n",
       "      <td>0</td>\n",
       "      <td>0</td>\n",
       "      <td>0</td>\n",
       "      <td>0</td>\n",
       "      <td>0</td>\n",
       "      <td>1</td>\n",
       "      <td>0</td>\n",
       "      <td>0</td>\n",
       "      <td>0</td>\n",
       "      <td>0</td>\n",
       "    </tr>\n",
       "    <tr>\n",
       "      <th>4</th>\n",
       "      <td>112.151000</td>\n",
       "      <td>101.868462</td>\n",
       "      <td>103.575961</td>\n",
       "      <td>101.766129</td>\n",
       "      <td>88.530000</td>\n",
       "      <td>101.226803</td>\n",
       "      <td>100.051364</td>\n",
       "      <td>0</td>\n",
       "      <td>0</td>\n",
       "      <td>0</td>\n",
       "      <td>...</td>\n",
       "      <td>0</td>\n",
       "      <td>0</td>\n",
       "      <td>1</td>\n",
       "      <td>0</td>\n",
       "      <td>0</td>\n",
       "      <td>0</td>\n",
       "      <td>0</td>\n",
       "      <td>0</td>\n",
       "      <td>0</td>\n",
       "      <td>0</td>\n",
       "    </tr>\n",
       "  </tbody>\n",
       "</table>\n",
       "<p>5 rows × 318 columns</p>\n",
       "</div>"
      ],
      "text/plain": [
       "           X0          X1          X2          X3          X5          X6  \\\n",
       "0   78.025543  100.983086   83.369927   96.111916  100.439938   97.802524   \n",
       "1   93.538656   99.550000   93.722995  102.242763  100.439938   99.961284   \n",
       "2   78.025543  100.983086  103.575961   96.111916  100.439938  101.015569   \n",
       "3   78.025543  100.416661   83.369927   96.111916  100.439938   98.487815   \n",
       "4  112.151000  101.868462  103.575961  101.766129   88.530000  101.226803   \n",
       "\n",
       "           X8  X10  X12  X13  ...  X373  X374  X375  X376  X377  X378  X379  \\\n",
       "0   98.848615    0    0    0  ...     0     0     0     0     0     1     0   \n",
       "1  101.435086    0    0    0  ...     0     0     0     0     1     0     0   \n",
       "2  100.272428    0    0    0  ...     0     0     0     0     0     1     0   \n",
       "3  102.194215    0    0    0  ...     0     0     0     0     0     1     0   \n",
       "4  100.051364    0    0    0  ...     0     0     1     0     0     0     0   \n",
       "\n",
       "   X380  X383  X384  \n",
       "0     0     0     0  \n",
       "1     0     0     0  \n",
       "2     0     0     0  \n",
       "3     0     0     0  \n",
       "4     0     0     0  \n",
       "\n",
       "[5 rows x 318 columns]"
      ]
     },
     "execution_count": 83,
     "metadata": {},
     "output_type": "execute_result"
    }
   ],
   "source": [
    "test_mean.head()"
   ]
  },
  {
   "cell_type": "code",
   "execution_count": 84,
   "metadata": {},
   "outputs": [],
   "source": [
    "# Using standard scaler to normalize the data\n",
    "scaler = StandardScaler()"
   ]
  },
  {
   "cell_type": "code",
   "execution_count": 85,
   "metadata": {},
   "outputs": [],
   "source": [
    "train_mean_norm= scaler.fit_transform(train_mean.drop(['y'],axis = 1))"
   ]
  },
  {
   "cell_type": "code",
   "execution_count": 86,
   "metadata": {},
   "outputs": [],
   "source": [
    "train_columns = train_mean.drop(['y'],axis = 1).columns"
   ]
  },
  {
   "cell_type": "code",
   "execution_count": 87,
   "metadata": {},
   "outputs": [],
   "source": [
    "train_mean_norm = pd.DataFrame(train_mean_norm,columns = train_columns)"
   ]
  },
  {
   "cell_type": "code",
   "execution_count": 88,
   "metadata": {},
   "outputs": [],
   "source": [
    "test_mean_norm = scaler.transform(test_mean)"
   ]
  },
  {
   "cell_type": "code",
   "execution_count": 89,
   "metadata": {},
   "outputs": [],
   "source": [
    "test_mean_norm = pd.DataFrame(test_mean_norm,columns = test_mean.columns)"
   ]
  },
  {
   "cell_type": "code",
   "execution_count": 90,
   "metadata": {},
   "outputs": [],
   "source": [
    "train_mean_norm.to_csv('mean_encoding/preprocessed_train_norm_mean.csv',index = False)"
   ]
  },
  {
   "cell_type": "code",
   "execution_count": 91,
   "metadata": {},
   "outputs": [],
   "source": [
    "test_mean_norm.to_csv('mean_encoding/preprocessed_test_norm_mean.csv',index = False)"
   ]
  },
  {
   "cell_type": "markdown",
   "metadata": {},
   "source": [
    "### Adding Interaction variables"
   ]
  },
  {
   "cell_type": "code",
   "execution_count": 92,
   "metadata": {},
   "outputs": [],
   "source": [
    "train_mean_corr = pd.concat([train_mean,train_top_corr_numeric],axis = 1)\n",
    "test_mean_corr = pd.concat([test_mean,test_top_corr_numeric],axis = 1)"
   ]
  },
  {
   "cell_type": "code",
   "execution_count": 93,
   "metadata": {},
   "outputs": [],
   "source": [
    "# Using standard scaler to normalize the data\n",
    "scaler = StandardScaler()"
   ]
  },
  {
   "cell_type": "code",
   "execution_count": 94,
   "metadata": {},
   "outputs": [],
   "source": [
    "train_mean_interaction = scaler.fit_transform(train_mean_corr.drop(['y'],axis = 1))"
   ]
  },
  {
   "cell_type": "code",
   "execution_count": 95,
   "metadata": {},
   "outputs": [],
   "source": [
    "train_columns = train_mean_corr.drop(['y'],axis = 1).columns"
   ]
  },
  {
   "cell_type": "code",
   "execution_count": 96,
   "metadata": {},
   "outputs": [],
   "source": [
    "train_mean_interaction = pd.DataFrame(train_mean_interaction,columns = train_columns)"
   ]
  },
  {
   "cell_type": "code",
   "execution_count": 97,
   "metadata": {},
   "outputs": [],
   "source": [
    "train_mean_interaction.to_csv('mean_encoding/preprocessed_train_mean_interaction.csv',index = False)"
   ]
  },
  {
   "cell_type": "code",
   "execution_count": 98,
   "metadata": {},
   "outputs": [],
   "source": [
    "test_mean_interaction = scaler.transform(test_mean_corr)"
   ]
  },
  {
   "cell_type": "code",
   "execution_count": 99,
   "metadata": {},
   "outputs": [],
   "source": [
    "test_mean_interaction = pd.DataFrame(test_mean_interaction,columns = test_mean_corr.columns)"
   ]
  },
  {
   "cell_type": "code",
   "execution_count": 100,
   "metadata": {},
   "outputs": [],
   "source": [
    "test_mean_interaction.to_csv('mean_encoding/preprocessed_test_mean_interaction.csv',index = False)"
   ]
  },
  {
   "cell_type": "markdown",
   "metadata": {},
   "source": [
    "### Adding PCA and Interaction features"
   ]
  },
  {
   "cell_type": "code",
   "execution_count": 101,
   "metadata": {},
   "outputs": [],
   "source": [
    "train_mean_corr_pca= pd.concat([train_mean_interaction,train_pca_df],axis = 1)\n",
    "test_mean_corr_pca = pd.concat([test_mean_interaction,test_pca_df],axis = 1)"
   ]
  },
  {
   "cell_type": "code",
   "execution_count": 102,
   "metadata": {},
   "outputs": [],
   "source": [
    "train_mean_corr_pca.to_csv('mean_encoding/train_mean_interaction_pca.csv',index = False)"
   ]
  },
  {
   "cell_type": "code",
   "execution_count": 103,
   "metadata": {},
   "outputs": [],
   "source": [
    "test_mean_corr_pca.to_csv('mean_encoding/test_mean_interaction_pca.csv',index = False)"
   ]
  },
  {
   "cell_type": "markdown",
   "metadata": {},
   "source": [
    "### Adding TSVD and Interaction features"
   ]
  },
  {
   "cell_type": "code",
   "execution_count": 104,
   "metadata": {},
   "outputs": [],
   "source": [
    "train_mean_corr_tsvd = pd.concat([train_mean_interaction,train_tsvd_df],axis = 1)\n",
    "test_mean_corr_tsvd = pd.concat([test_mean_interaction,test_tsvd_df],axis = 1)"
   ]
  },
  {
   "cell_type": "code",
   "execution_count": 105,
   "metadata": {},
   "outputs": [],
   "source": [
    "train_mean_corr_tsvd.to_csv('mean_encoding/train_mean_interaction_tsvd.csv',index = False)"
   ]
  },
  {
   "cell_type": "code",
   "execution_count": 106,
   "metadata": {},
   "outputs": [],
   "source": [
    "test_mean_corr_tsvd.to_csv('mean_encoding/test_mean_interaction_tsvd.csv',index = False)"
   ]
  },
  {
   "cell_type": "markdown",
   "metadata": {},
   "source": [
    "## Datasets-3 (GLMM Encoding)"
   ]
  },
  {
   "cell_type": "code",
   "execution_count": 110,
   "metadata": {},
   "outputs": [],
   "source": [
    "glmm_encoder = GLMMEncoder()"
   ]
  },
  {
   "cell_type": "code",
   "execution_count": 111,
   "metadata": {},
   "outputs": [],
   "source": [
    "#Loading dataset saved from EDA\n",
    "train_glmm = pd.read_csv('preprocessed_train_eda.csv')\n",
    "test_glmm = pd.read_csv('preprocessed_test_eda.csv')"
   ]
  },
  {
   "cell_type": "code",
   "execution_count": 112,
   "metadata": {},
   "outputs": [],
   "source": [
    "# Getting categorical columns from the train\n",
    "categ = np.array(train_glmm.select_dtypes(include = 'object').columns)"
   ]
  },
  {
   "cell_type": "markdown",
   "metadata": {},
   "source": [
    "#### Applying GLMM encoding of categorical variables"
   ]
  },
  {
   "cell_type": "code",
   "execution_count": 113,
   "metadata": {},
   "outputs": [
    {
     "name": "stderr",
     "output_type": "stream",
     "text": [
      "c:\\Miniconda\\lib\\site-packages\\category_encoders\\utils.py:21: FutureWarning: is_categorical is deprecated and will be removed in a future version.  Use is_categorical_dtype instead\n",
      "  elif pd.api.types.is_categorical(cols):\n"
     ]
    }
   ],
   "source": [
    "train_glmm_categ = glmm_encoder.fit_transform(train_glmm[categ],train_glmm['y'])"
   ]
  },
  {
   "cell_type": "code",
   "execution_count": 114,
   "metadata": {},
   "outputs": [],
   "source": [
    "test_glmm_categ = glmm_encoder.transform(test_glmm[categ])"
   ]
  },
  {
   "cell_type": "code",
   "execution_count": 115,
   "metadata": {},
   "outputs": [],
   "source": [
    "for i in categ:\n",
    "    train_glmm[i] = train_glmm_categ[i]\n",
    "    test_glmm[i] = test_glmm_categ[i]"
   ]
  },
  {
   "cell_type": "code",
   "execution_count": 116,
   "metadata": {},
   "outputs": [],
   "source": [
    "# Using standard scaler to normalize the data\n",
    "scaler = StandardScaler()"
   ]
  },
  {
   "cell_type": "code",
   "execution_count": 117,
   "metadata": {},
   "outputs": [],
   "source": [
    "train_glmm_norm= scaler.fit_transform(train_glmm.drop(['y'],axis = 1))"
   ]
  },
  {
   "cell_type": "code",
   "execution_count": 118,
   "metadata": {},
   "outputs": [],
   "source": [
    "train_columns = train_glmm.drop(['y'],axis = 1).columns"
   ]
  },
  {
   "cell_type": "code",
   "execution_count": 119,
   "metadata": {},
   "outputs": [],
   "source": [
    "train_glmm_norm = pd.DataFrame(train_glmm_norm,columns = train_columns)"
   ]
  },
  {
   "cell_type": "code",
   "execution_count": 120,
   "metadata": {},
   "outputs": [],
   "source": [
    "test_glmm_norm = scaler.transform(test_glmm)"
   ]
  },
  {
   "cell_type": "code",
   "execution_count": 121,
   "metadata": {},
   "outputs": [],
   "source": [
    "test_glmm_norm = pd.DataFrame(test_glmm_norm,columns = test_glmm.columns)"
   ]
  },
  {
   "cell_type": "code",
   "execution_count": 122,
   "metadata": {},
   "outputs": [],
   "source": [
    "train_glmm_norm.to_csv('glmm_encoding/preprocessed_train_norm_glmm.csv',index = False)"
   ]
  },
  {
   "cell_type": "code",
   "execution_count": 123,
   "metadata": {},
   "outputs": [],
   "source": [
    "test_glmm_norm.to_csv('glmm_encoding/preprocessed_test_norm_glmm.csv',index = False)"
   ]
  },
  {
   "cell_type": "markdown",
   "metadata": {},
   "source": [
    "### Adding Interaction variables"
   ]
  },
  {
   "cell_type": "code",
   "execution_count": 124,
   "metadata": {},
   "outputs": [],
   "source": [
    "train_glmm_corr = pd.concat([train_glmm,train_top_corr_numeric],axis = 1)\n",
    "test_glmm_corr = pd.concat([test_glmm,test_top_corr_numeric],axis = 1)"
   ]
  },
  {
   "cell_type": "code",
   "execution_count": 125,
   "metadata": {},
   "outputs": [],
   "source": [
    "# Using standard scaler to normalize the data\n",
    "scaler = StandardScaler()"
   ]
  },
  {
   "cell_type": "code",
   "execution_count": 126,
   "metadata": {},
   "outputs": [],
   "source": [
    "train_glmm_interaction = scaler.fit_transform(train_glmm_corr.drop(['y'],axis = 1))"
   ]
  },
  {
   "cell_type": "code",
   "execution_count": 127,
   "metadata": {},
   "outputs": [],
   "source": [
    "train_columns = train_glmm_corr.drop(['y'],axis = 1).columns"
   ]
  },
  {
   "cell_type": "code",
   "execution_count": 128,
   "metadata": {},
   "outputs": [],
   "source": [
    "train_glmm_interaction = pd.DataFrame(train_glmm_interaction,columns = train_columns)"
   ]
  },
  {
   "cell_type": "code",
   "execution_count": 129,
   "metadata": {},
   "outputs": [],
   "source": [
    "train_glmm_interaction.to_csv('glmm_encoding/preprocessed_train_glmm_interaction.csv',index = False)"
   ]
  },
  {
   "cell_type": "code",
   "execution_count": 130,
   "metadata": {},
   "outputs": [],
   "source": [
    "test_glmm_interaction = scaler.transform(test_glmm_corr)"
   ]
  },
  {
   "cell_type": "code",
   "execution_count": 131,
   "metadata": {},
   "outputs": [],
   "source": [
    "test_glmm_interaction = pd.DataFrame(test_glmm_interaction,columns = test_glmm_corr.columns)"
   ]
  },
  {
   "cell_type": "code",
   "execution_count": 132,
   "metadata": {},
   "outputs": [],
   "source": [
    "test_glmm_interaction.to_csv('glmm_encoding/preprocessed_test_glmm_interaction.csv',index = False)"
   ]
  },
  {
   "cell_type": "markdown",
   "metadata": {},
   "source": [
    "### Adding PCA and Interaction features"
   ]
  },
  {
   "cell_type": "code",
   "execution_count": 133,
   "metadata": {},
   "outputs": [],
   "source": [
    "train_glmm_corr_pca = pd.concat([train_glmm_interaction,train_pca_df],axis = 1)\n",
    "test_glmm_corr_pca = pd.concat([test_glmm_interaction,test_pca_df],axis = 1)"
   ]
  },
  {
   "cell_type": "code",
   "execution_count": 134,
   "metadata": {},
   "outputs": [],
   "source": [
    "train_glmm_corr_pca.to_csv('glmm_encoding/train_glmm_interaction_pca.csv',index = False)"
   ]
  },
  {
   "cell_type": "code",
   "execution_count": 135,
   "metadata": {},
   "outputs": [],
   "source": [
    "test_glmm_corr_pca.to_csv('glmm_encoding/test_glmm_interaction_pca.csv',index = False)"
   ]
  },
  {
   "cell_type": "markdown",
   "metadata": {},
   "source": [
    "### Adding TSVD and Interaction features"
   ]
  },
  {
   "cell_type": "code",
   "execution_count": 136,
   "metadata": {},
   "outputs": [],
   "source": [
    "train_glmm_corr_tsvd = pd.concat([train_glmm_interaction,train_tsvd_df],axis = 1)\n",
    "test_glmm_corr_tsvd = pd.concat([test_glmm_interaction,test_tsvd_df],axis = 1)"
   ]
  },
  {
   "cell_type": "code",
   "execution_count": 137,
   "metadata": {},
   "outputs": [],
   "source": [
    "train_glmm_corr_tsvd.to_csv('glmm_encoding/train_glmm_interaction_tsvd.csv',index = False)"
   ]
  },
  {
   "cell_type": "code",
   "execution_count": 138,
   "metadata": {},
   "outputs": [],
   "source": [
    "test_glmm_corr_tsvd.to_csv('glmm_encoding/test_glmm_interaction_tsvd.csv',index = False)"
   ]
  },
  {
   "cell_type": "code",
   "execution_count": null,
   "metadata": {},
   "outputs": [],
   "source": []
  },
  {
   "cell_type": "code",
   "execution_count": null,
   "metadata": {},
   "outputs": [],
   "source": []
  },
  {
   "cell_type": "code",
   "execution_count": null,
   "metadata": {},
   "outputs": [],
   "source": []
  }
 ],
 "metadata": {
  "kernelspec": {
   "display_name": "Python 3",
   "language": "python",
   "name": "python3"
  },
  "language_info": {
   "codemirror_mode": {
    "name": "ipython",
    "version": 3
   },
   "file_extension": ".py",
   "mimetype": "text/x-python",
   "name": "python",
   "nbconvert_exporter": "python",
   "pygments_lexer": "ipython3",
   "version": "3.7.7"
  }
 },
 "nbformat": 4,
 "nbformat_minor": 4
}
